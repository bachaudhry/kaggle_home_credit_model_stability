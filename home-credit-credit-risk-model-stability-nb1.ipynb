{
 "cells": [
  {
   "cell_type": "markdown",
   "id": "283644f8",
   "metadata": {
    "papermill": {
     "duration": 0.002279,
     "end_time": "2024-04-24T10:22:01.111231",
     "exception": false,
     "start_time": "2024-04-24T10:22:01.108952",
     "status": "completed"
    },
    "tags": []
   },
   "source": [
    "### `Intro Notes`\n",
    "\n",
    "1. Large number of tables stored in `.csv` and `.parquet` formats.\n",
    "2. Train baseline model using`base tables`.\n",
    "    - `base` tables has both train_base.csv and `test_base.csv`\n",
    "3. Build primary pipeline using internal data sources and then move to incorporating external sources.\n",
    "\n",
    "\n",
    "### Special Columns\n",
    "\n",
    "- case_id - This is the unique identifier for each credit case. You'll need this ID to join relevant tables to the base table.\n",
    "- date_decision - This refers to the date when a decision was made regarding the approval of the loan.\n",
    "- WEEK_NUM - This is the week number used for aggregation. **In the test sample, WEEK_NUM continues sequentially from the last training value of WEEK_NUM.**\n",
    "- MONTH - This column represents the month and is _intended for aggregation purposes_.\n",
    "- `target` - This is the target value, determined after a certain period based on whether or not the client defaulted on the specific credit case (loan).\n",
    "- num_group1 - This is an indexing column used for the historical records of case_id in both depth=1 and depth=2 tables.\n",
    "- num_group2 - This is the second indexing column for depth=2 tables' historical records of case_id. The order of num_group1 and num_group2 is important and will be clarified in feature definitions.\n"
   ]
  },
  {
   "cell_type": "code",
   "execution_count": null,
   "id": "ce6db101",
   "metadata": {
    "_cell_guid": "b1076dfc-b9ad-4769-8c92-a6c4dae69d19",
    "_uuid": "8f2839f25d086af736a60e9eeb907d3b93b6e0e5",
    "papermill": {
     "duration": 0.001554,
     "end_time": "2024-04-24T10:22:01.114860",
     "exception": false,
     "start_time": "2024-04-24T10:22:01.113306",
     "status": "completed"
    },
    "tags": []
   },
   "outputs": [],
   "source": []
  }
 ],
 "metadata": {
  "kaggle": {
   "accelerator": "none",
   "dataSources": [],
   "dockerImageVersionId": 30702,
   "isGpuEnabled": false,
   "isInternetEnabled": true,
   "language": "python",
   "sourceType": "notebook"
  },
  "kernelspec": {
   "display_name": "Python 3",
   "language": "python",
   "name": "python3"
  },
  "language_info": {
   "codemirror_mode": {
    "name": "ipython",
    "version": 3
   },
   "file_extension": ".py",
   "mimetype": "text/x-python",
   "name": "python",
   "nbconvert_exporter": "python",
   "pygments_lexer": "ipython3",
   "version": "3.10.13"
  },
  "papermill": {
   "default_parameters": {},
   "duration": 6.160781,
   "end_time": "2024-04-24T10:22:04.087813",
   "environment_variables": {},
   "exception": null,
   "input_path": "__notebook__.ipynb",
   "output_path": "__notebook__.ipynb",
   "parameters": {},
   "start_time": "2024-04-24T10:21:57.927032",
   "version": "2.5.0"
  }
 },
 "nbformat": 4,
 "nbformat_minor": 5
}
